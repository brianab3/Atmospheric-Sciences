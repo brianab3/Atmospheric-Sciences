{
  "nbformat": 4,
  "nbformat_minor": 0,
  "metadata": {
    "colab": {
      "provenance": []
    },
    "kernelspec": {
      "name": "python3",
      "display_name": "Python 3"
    },
    "language_info": {
      "name": "python"
    }
  },
  "cells": [
    {
      "cell_type": "code",
      "metadata": {
        "id": "Dry8B__gA8tu"
      },
      "source": [
        "# import numpy and import matplotlib\n",
        "import matplotlib.pyplot as plt\n",
        "import matplotlib.image as mpimg\n",
        "import numpy as np\n",
        "import pandas as pd"
      ],
      "execution_count": null,
      "outputs": []
    },
    {
      "cell_type": "code",
      "metadata": {
        "id": "o9489yKTCatk"
      },
      "source": [
        "!wget -N -q http://rfd.atmos.uiuc.edu/305/Data/laura_track.txt"
      ],
      "execution_count": null,
      "outputs": []
    },
    {
      "cell_type": "code",
      "metadata": {
        "colab": {
          "base_uri": "https://localhost:8080/"
        },
        "id": "Bp0w2JAyCcyc",
        "outputId": "408c42dd-0cf7-4f8f-ea17-886e99e7b49f"
      },
      "source": [
        "!cat laura_track.txt"
      ],
      "execution_count": null,
      "outputs": [
        {
          "output_type": "stream",
          "name": "stdout",
          "text": [
            " FH   DY TGMT  LAT    LON    KTS MPH\n",
            "  0   26 0900  26.1   90.7    95 110\n",
            " 12   26 1800  27.4   92.4   115 130\n",
            " 24   27 0600  29.7   93.5   105 120\n",
            " 36   27 1800  32.4   93.7    50  60\n",
            " 48   28 0600  34.8   92.9    30  35\n",
            " 60   28 1800  36.4   91.0    25  30\n",
            " 72   29 0600  37.3   87.3    30  35\n",
            " 96   30 0600  38.0   74.5    35  40\n",
            "120   31 0600  44.0   60.0    45  50\n"
          ]
        }
      ]
    },
    {
      "cell_type": "code",
      "metadata": {
        "id": "kS3uegh0BJKw"
      },
      "source": [
        "data = np.genfromtxt('laura_track.txt');"
      ],
      "execution_count": null,
      "outputs": []
    },
    {
      "cell_type": "code",
      "metadata": {
        "colab": {
          "base_uri": "https://localhost:8080/"
        },
        "id": "b86a_7rtBy6q",
        "outputId": "986c9808-6d56-4718-e600-e643a8334ae7"
      },
      "source": [
        "data"
      ],
      "execution_count": null,
      "outputs": [
        {
          "output_type": "execute_result",
          "data": {
            "text/plain": [
              "array([[   nan,    nan,    nan,    nan,    nan,    nan,    nan],\n",
              "       [   0. ,   26. ,  900. ,   26.1,   90.7,   95. ,  110. ],\n",
              "       [  12. ,   26. , 1800. ,   27.4,   92.4,  115. ,  130. ],\n",
              "       [  24. ,   27. ,  600. ,   29.7,   93.5,  105. ,  120. ],\n",
              "       [  36. ,   27. , 1800. ,   32.4,   93.7,   50. ,   60. ],\n",
              "       [  48. ,   28. ,  600. ,   34.8,   92.9,   30. ,   35. ],\n",
              "       [  60. ,   28. , 1800. ,   36.4,   91. ,   25. ,   30. ],\n",
              "       [  72. ,   29. ,  600. ,   37.3,   87.3,   30. ,   35. ],\n",
              "       [  96. ,   30. ,  600. ,   38. ,   74.5,   35. ,   40. ],\n",
              "       [ 120. ,   31. ,  600. ,   44. ,   60. ,   45. ,   50. ]])"
            ]
          },
          "metadata": {},
          "execution_count": 59
        }
      ]
    },
    {
      "cell_type": "code",
      "metadata": {
        "colab": {
          "base_uri": "https://localhost:8080/"
        },
        "id": "VcVO8rRyEGjb",
        "outputId": "bacccbd2-0c95-468a-928c-15d81870cb46"
      },
      "source": [
        "data.dtype # 64 on and off bits describing that data"
      ],
      "execution_count": null,
      "outputs": [
        {
          "output_type": "execute_result",
          "data": {
            "text/plain": [
              "dtype('float64')"
            ]
          },
          "metadata": {},
          "execution_count": 60
        }
      ]
    },
    {
      "cell_type": "code",
      "metadata": {
        "colab": {
          "base_uri": "https://localhost:8080/"
        },
        "id": "heGnbxcFEbnJ",
        "outputId": "90e3ed1a-93d8-404c-f2f7-384452db8277"
      },
      "source": [
        "data.ndim # number of dimensions (2 is 2d)"
      ],
      "execution_count": null,
      "outputs": [
        {
          "output_type": "execute_result",
          "data": {
            "text/plain": [
              "2"
            ]
          },
          "metadata": {},
          "execution_count": 61
        }
      ]
    },
    {
      "cell_type": "code",
      "metadata": {
        "colab": {
          "base_uri": "https://localhost:8080/"
        },
        "id": "SWqJ0ju0Ejyj",
        "outputId": "3ecf5f12-a158-4a11-a71d-e24605624b6d"
      },
      "source": [
        "data.shape"
      ],
      "execution_count": null,
      "outputs": [
        {
          "output_type": "execute_result",
          "data": {
            "text/plain": [
              "(10, 7)"
            ]
          },
          "metadata": {},
          "execution_count": 62
        }
      ]
    },
    {
      "cell_type": "code",
      "metadata": {
        "id": "hHnjUantEuTB"
      },
      "source": [
        "data = np.genfromtxt('laura_track.txt', skip_header = 1)"
      ],
      "execution_count": null,
      "outputs": []
    },
    {
      "cell_type": "code",
      "metadata": {
        "colab": {
          "base_uri": "https://localhost:8080/"
        },
        "id": "AsiQC_7eFfMZ",
        "outputId": "9110d866-ecf9-451e-be0a-eb13c08f7502"
      },
      "source": [
        "data"
      ],
      "execution_count": null,
      "outputs": [
        {
          "output_type": "execute_result",
          "data": {
            "text/plain": [
              "array([[   0. ,   26. ,  900. ,   26.1,   90.7,   95. ,  110. ],\n",
              "       [  12. ,   26. , 1800. ,   27.4,   92.4,  115. ,  130. ],\n",
              "       [  24. ,   27. ,  600. ,   29.7,   93.5,  105. ,  120. ],\n",
              "       [  36. ,   27. , 1800. ,   32.4,   93.7,   50. ,   60. ],\n",
              "       [  48. ,   28. ,  600. ,   34.8,   92.9,   30. ,   35. ],\n",
              "       [  60. ,   28. , 1800. ,   36.4,   91. ,   25. ,   30. ],\n",
              "       [  72. ,   29. ,  600. ,   37.3,   87.3,   30. ,   35. ],\n",
              "       [  96. ,   30. ,  600. ,   38. ,   74.5,   35. ,   40. ],\n",
              "       [ 120. ,   31. ,  600. ,   44. ,   60. ,   45. ,   50. ]])"
            ]
          },
          "metadata": {},
          "execution_count": 64
        }
      ]
    },
    {
      "cell_type": "code",
      "metadata": {
        "id": "FLN97KDBFcpG"
      },
      "source": [
        "hours = data[:, 0]; # hours into future\n",
        "latitude = data[:, 3];\n",
        "longitude = -data[:, 4];\n",
        "wind = data[:,6];"
      ],
      "execution_count": null,
      "outputs": []
    },
    {
      "cell_type": "code",
      "metadata": {
        "colab": {
          "base_uri": "https://localhost:8080/",
          "height": 602
        },
        "id": "gg6_6ZU9F4Sd",
        "outputId": "434efc51-0ae7-4e92-e0e2-e4ba48e3ea26"
      },
      "source": [
        "plt.figure(dpi = 150)\n",
        "plt.subplot(3, 1, 1);\n",
        "plt.plot(wind, 'r');\n",
        "plt.title('Laura')  # rows, columns, plot-number\n",
        "\n",
        "plt.subplot(3, 1, 2);\n",
        "plt.plot(latitude, 'b')\n",
        "\n",
        "plt.subplot(3, 1, 3); plt.plot(longitude, 'g')\n",
        "plt.xlabel('Forcast Track Time (hours)')\n",
        "plt.tight_layout()\n"
      ],
      "execution_count": null,
      "outputs": [
        {
          "output_type": "display_data",
          "data": {
            "image/png": "[encoded data removed]",
            "text/plain": [
              "<Figure size 900x600 with 3 Axes>"
            ]
          },
          "metadata": {
            "needs_background": "light"
          }
        }
      ]
    },
    {
      "cell_type": "code",
      "metadata": {
        "id": "flaD5CdtT_Pg"
      },
      "source": [],
      "execution_count": null,
      "outputs": []
    },
    {
      "cell_type": "code",
      "metadata": {
        "id": "SMTsIciOIg32"
      },
      "source": [
        "!wget -N -q http://rfd.atmos.uiuc.edu/305/Data/laura_track.csv"
      ],
      "execution_count": null,
      "outputs": []
    },
    {
      "cell_type": "code",
      "metadata": {
        "colab": {
          "base_uri": "https://localhost:8080/",
          "height": 328
        },
        "id": "6FaLLV31Kkf1",
        "outputId": "6ac5a7b3-53b9-4ef1-fd2a-a0470502c9e6"
      },
      "source": [
        "track = pd.read_csv('laura_track.csv');\n",
        "track"
      ],
      "execution_count": null,
      "outputs": [
        {
          "output_type": "execute_result",
          "data": {
            "text/html": [
              "<div>\n",
              "<style scoped>\n",
              "    .dataframe tbody tr th:only-of-type {\n",
              "        vertical-align: middle;\n",
              "    }\n",
              "\n",
              "    .dataframe tbody tr th {\n",
              "        vertical-align: top;\n",
              "    }\n",
              "\n",
              "    .dataframe thead th {\n",
              "        text-align: right;\n",
              "    }\n",
              "</style>\n",
              "<table border=\"1\" class=\"dataframe\">\n",
              "  <thead>\n",
              "    <tr style=\"text-align: right;\">\n",
              "      <th></th>\n",
              "      <th>FH</th>\n",
              "      <th>DY</th>\n",
              "      <th>TGMT</th>\n",
              "      <th>LAT</th>\n",
              "      <th>LON</th>\n",
              "      <th>KTS</th>\n",
              "      <th>MPH</th>\n",
              "    </tr>\n",
              "  </thead>\n",
              "  <tbody>\n",
              "    <tr>\n",
              "      <th>0</th>\n",
              "      <td>0</td>\n",
              "      <td>26</td>\n",
              "      <td>900</td>\n",
              "      <td>26.1</td>\n",
              "      <td>90.7</td>\n",
              "      <td>95</td>\n",
              "      <td>110</td>\n",
              "    </tr>\n",
              "    <tr>\n",
              "      <th>1</th>\n",
              "      <td>12</td>\n",
              "      <td>26</td>\n",
              "      <td>1800</td>\n",
              "      <td>27.4</td>\n",
              "      <td>92.4</td>\n",
              "      <td>115</td>\n",
              "      <td>130</td>\n",
              "    </tr>\n",
              "    <tr>\n",
              "      <th>2</th>\n",
              "      <td>24</td>\n",
              "      <td>27</td>\n",
              "      <td>600</td>\n",
              "      <td>29.7</td>\n",
              "      <td>93.5</td>\n",
              "      <td>105</td>\n",
              "      <td>120</td>\n",
              "    </tr>\n",
              "    <tr>\n",
              "      <th>3</th>\n",
              "      <td>36</td>\n",
              "      <td>27</td>\n",
              "      <td>1800</td>\n",
              "      <td>32.4</td>\n",
              "      <td>93.7</td>\n",
              "      <td>50</td>\n",
              "      <td>60</td>\n",
              "    </tr>\n",
              "    <tr>\n",
              "      <th>4</th>\n",
              "      <td>48</td>\n",
              "      <td>28</td>\n",
              "      <td>600</td>\n",
              "      <td>34.8</td>\n",
              "      <td>92.9</td>\n",
              "      <td>30</td>\n",
              "      <td>35</td>\n",
              "    </tr>\n",
              "    <tr>\n",
              "      <th>5</th>\n",
              "      <td>60</td>\n",
              "      <td>28</td>\n",
              "      <td>1800</td>\n",
              "      <td>36.4</td>\n",
              "      <td>91.0</td>\n",
              "      <td>25</td>\n",
              "      <td>30</td>\n",
              "    </tr>\n",
              "    <tr>\n",
              "      <th>6</th>\n",
              "      <td>72</td>\n",
              "      <td>29</td>\n",
              "      <td>600</td>\n",
              "      <td>37.3</td>\n",
              "      <td>87.3</td>\n",
              "      <td>30</td>\n",
              "      <td>35</td>\n",
              "    </tr>\n",
              "    <tr>\n",
              "      <th>7</th>\n",
              "      <td>96</td>\n",
              "      <td>30</td>\n",
              "      <td>600</td>\n",
              "      <td>38.0</td>\n",
              "      <td>74.5</td>\n",
              "      <td>35</td>\n",
              "      <td>40</td>\n",
              "    </tr>\n",
              "    <tr>\n",
              "      <th>8</th>\n",
              "      <td>120</td>\n",
              "      <td>31</td>\n",
              "      <td>600</td>\n",
              "      <td>44.0</td>\n",
              "      <td>60.0</td>\n",
              "      <td>45</td>\n",
              "      <td>50</td>\n",
              "    </tr>\n",
              "  </tbody>\n",
              "</table>\n",
              "</div>"
            ],
            "text/plain": [
              "    FH  DY  TGMT   LAT   LON  KTS  MPH\n",
              "0    0  26   900  26.1  90.7   95  110\n",
              "1   12  26  1800  27.4  92.4  115  130\n",
              "2   24  27   600  29.7  93.5  105  120\n",
              "3   36  27  1800  32.4  93.7   50   60\n",
              "4   48  28   600  34.8  92.9   30   35\n",
              "5   60  28  1800  36.4  91.0   25   30\n",
              "6   72  29   600  37.3  87.3   30   35\n",
              "7   96  30   600  38.0  74.5   35   40\n",
              "8  120  31   600  44.0  60.0   45   50"
            ]
          },
          "metadata": {},
          "execution_count": 68
        }
      ]
    },
    {
      "cell_type": "code",
      "metadata": {
        "colab": {
          "base_uri": "https://localhost:8080/",
          "height": 359
        },
        "id": "ggss6zd5KIvd",
        "outputId": "bd059a35-124b-474e-fbd6-6c7ed75d08fb"
      },
      "source": [
        "track = pd.read_csv('laura_track.csv', index_col=0);\n",
        "track\n"
      ],
      "execution_count": null,
      "outputs": [
        {
          "output_type": "execute_result",
          "data": {
            "text/html": [
              "<div>\n",
              "<style scoped>\n",
              "    .dataframe tbody tr th:only-of-type {\n",
              "        vertical-align: middle;\n",
              "    }\n",
              "\n",
              "    .dataframe tbody tr th {\n",
              "        vertical-align: top;\n",
              "    }\n",
              "\n",
              "    .dataframe thead th {\n",
              "        text-align: right;\n",
              "    }\n",
              "</style>\n",
              "<table border=\"1\" class=\"dataframe\">\n",
              "  <thead>\n",
              "    <tr style=\"text-align: right;\">\n",
              "      <th></th>\n",
              "      <th>DY</th>\n",
              "      <th>TGMT</th>\n",
              "      <th>LAT</th>\n",
              "      <th>LON</th>\n",
              "      <th>KTS</th>\n",
              "      <th>MPH</th>\n",
              "    </tr>\n",
              "    <tr>\n",
              "      <th>FH</th>\n",
              "      <th></th>\n",
              "      <th></th>\n",
              "      <th></th>\n",
              "      <th></th>\n",
              "      <th></th>\n",
              "      <th></th>\n",
              "    </tr>\n",
              "  </thead>\n",
              "  <tbody>\n",
              "    <tr>\n",
              "      <th>0</th>\n",
              "      <td>26</td>\n",
              "      <td>900</td>\n",
              "      <td>26.1</td>\n",
              "      <td>90.7</td>\n",
              "      <td>95</td>\n",
              "      <td>110</td>\n",
              "    </tr>\n",
              "    <tr>\n",
              "      <th>12</th>\n",
              "      <td>26</td>\n",
              "      <td>1800</td>\n",
              "      <td>27.4</td>\n",
              "      <td>92.4</td>\n",
              "      <td>115</td>\n",
              "      <td>130</td>\n",
              "    </tr>\n",
              "    <tr>\n",
              "      <th>24</th>\n",
              "      <td>27</td>\n",
              "      <td>600</td>\n",
              "      <td>29.7</td>\n",
              "      <td>93.5</td>\n",
              "      <td>105</td>\n",
              "      <td>120</td>\n",
              "    </tr>\n",
              "    <tr>\n",
              "      <th>36</th>\n",
              "      <td>27</td>\n",
              "      <td>1800</td>\n",
              "      <td>32.4</td>\n",
              "      <td>93.7</td>\n",
              "      <td>50</td>\n",
              "      <td>60</td>\n",
              "    </tr>\n",
              "    <tr>\n",
              "      <th>48</th>\n",
              "      <td>28</td>\n",
              "      <td>600</td>\n",
              "      <td>34.8</td>\n",
              "      <td>92.9</td>\n",
              "      <td>30</td>\n",
              "      <td>35</td>\n",
              "    </tr>\n",
              "    <tr>\n",
              "      <th>60</th>\n",
              "      <td>28</td>\n",
              "      <td>1800</td>\n",
              "      <td>36.4</td>\n",
              "      <td>91.0</td>\n",
              "      <td>25</td>\n",
              "      <td>30</td>\n",
              "    </tr>\n",
              "    <tr>\n",
              "      <th>72</th>\n",
              "      <td>29</td>\n",
              "      <td>600</td>\n",
              "      <td>37.3</td>\n",
              "      <td>87.3</td>\n",
              "      <td>30</td>\n",
              "      <td>35</td>\n",
              "    </tr>\n",
              "    <tr>\n",
              "      <th>96</th>\n",
              "      <td>30</td>\n",
              "      <td>600</td>\n",
              "      <td>38.0</td>\n",
              "      <td>74.5</td>\n",
              "      <td>35</td>\n",
              "      <td>40</td>\n",
              "    </tr>\n",
              "    <tr>\n",
              "      <th>120</th>\n",
              "      <td>31</td>\n",
              "      <td>600</td>\n",
              "      <td>44.0</td>\n",
              "      <td>60.0</td>\n",
              "      <td>45</td>\n",
              "      <td>50</td>\n",
              "    </tr>\n",
              "  </tbody>\n",
              "</table>\n",
              "</div>"
            ],
            "text/plain": [
              "     DY  TGMT   LAT   LON  KTS  MPH\n",
              "FH                                 \n",
              "0    26   900  26.1  90.7   95  110\n",
              "12   26  1800  27.4  92.4  115  130\n",
              "24   27   600  29.7  93.5  105  120\n",
              "36   27  1800  32.4  93.7   50   60\n",
              "48   28   600  34.8  92.9   30   35\n",
              "60   28  1800  36.4  91.0   25   30\n",
              "72   29   600  37.3  87.3   30   35\n",
              "96   30   600  38.0  74.5   35   40\n",
              "120  31   600  44.0  60.0   45   50"
            ]
          },
          "metadata": {},
          "execution_count": 69
        }
      ]
    },
    {
      "cell_type": "code",
      "metadata": {
        "colab": {
          "base_uri": "https://localhost:8080/",
          "height": 235
        },
        "id": "Cg8RPLVZLJJT",
        "outputId": "fb0e49e8-c193-49dc-d142-f94e7d0dabd3"
      },
      "source": [
        "track.head()\n"
      ],
      "execution_count": null,
      "outputs": [
        {
          "output_type": "execute_result",
          "data": {
            "text/html": [
              "<div>\n",
              "<style scoped>\n",
              "    .dataframe tbody tr th:only-of-type {\n",
              "        vertical-align: middle;\n",
              "    }\n",
              "\n",
              "    .dataframe tbody tr th {\n",
              "        vertical-align: top;\n",
              "    }\n",
              "\n",
              "    .dataframe thead th {\n",
              "        text-align: right;\n",
              "    }\n",
              "</style>\n",
              "<table border=\"1\" class=\"dataframe\">\n",
              "  <thead>\n",
              "    <tr style=\"text-align: right;\">\n",
              "      <th></th>\n",
              "      <th>DY</th>\n",
              "      <th>TGMT</th>\n",
              "      <th>LAT</th>\n",
              "      <th>LON</th>\n",
              "      <th>KTS</th>\n",
              "      <th>MPH</th>\n",
              "    </tr>\n",
              "    <tr>\n",
              "      <th>FH</th>\n",
              "      <th></th>\n",
              "      <th></th>\n",
              "      <th></th>\n",
              "      <th></th>\n",
              "      <th></th>\n",
              "      <th></th>\n",
              "    </tr>\n",
              "  </thead>\n",
              "  <tbody>\n",
              "    <tr>\n",
              "      <th>0</th>\n",
              "      <td>26</td>\n",
              "      <td>900</td>\n",
              "      <td>26.1</td>\n",
              "      <td>90.7</td>\n",
              "      <td>95</td>\n",
              "      <td>110</td>\n",
              "    </tr>\n",
              "    <tr>\n",
              "      <th>12</th>\n",
              "      <td>26</td>\n",
              "      <td>1800</td>\n",
              "      <td>27.4</td>\n",
              "      <td>92.4</td>\n",
              "      <td>115</td>\n",
              "      <td>130</td>\n",
              "    </tr>\n",
              "    <tr>\n",
              "      <th>24</th>\n",
              "      <td>27</td>\n",
              "      <td>600</td>\n",
              "      <td>29.7</td>\n",
              "      <td>93.5</td>\n",
              "      <td>105</td>\n",
              "      <td>120</td>\n",
              "    </tr>\n",
              "    <tr>\n",
              "      <th>36</th>\n",
              "      <td>27</td>\n",
              "      <td>1800</td>\n",
              "      <td>32.4</td>\n",
              "      <td>93.7</td>\n",
              "      <td>50</td>\n",
              "      <td>60</td>\n",
              "    </tr>\n",
              "    <tr>\n",
              "      <th>48</th>\n",
              "      <td>28</td>\n",
              "      <td>600</td>\n",
              "      <td>34.8</td>\n",
              "      <td>92.9</td>\n",
              "      <td>30</td>\n",
              "      <td>35</td>\n",
              "    </tr>\n",
              "  </tbody>\n",
              "</table>\n",
              "</div>"
            ],
            "text/plain": [
              "    DY  TGMT   LAT   LON  KTS  MPH\n",
              "FH                                \n",
              "0   26   900  26.1  90.7   95  110\n",
              "12  26  1800  27.4  92.4  115  130\n",
              "24  27   600  29.7  93.5  105  120\n",
              "36  27  1800  32.4  93.7   50   60\n",
              "48  28   600  34.8  92.9   30   35"
            ]
          },
          "metadata": {},
          "execution_count": 70
        }
      ]
    },
    {
      "cell_type": "code",
      "metadata": {
        "colab": {
          "base_uri": "https://localhost:8080/",
          "height": 297
        },
        "id": "vUaXGE6-LLuG",
        "outputId": "c2ad9c80-9852-43fa-e3b5-3c5db65a561b"
      },
      "source": [
        "track.describe()"
      ],
      "execution_count": null,
      "outputs": [
        {
          "output_type": "execute_result",
          "data": {
            "text/html": [
              "<div>\n",
              "<style scoped>\n",
              "    .dataframe tbody tr th:only-of-type {\n",
              "        vertical-align: middle;\n",
              "    }\n",
              "\n",
              "    .dataframe tbody tr th {\n",
              "        vertical-align: top;\n",
              "    }\n",
              "\n",
              "    .dataframe thead th {\n",
              "        text-align: right;\n",
              "    }\n",
              "</style>\n",
              "<table border=\"1\" class=\"dataframe\">\n",
              "  <thead>\n",
              "    <tr style=\"text-align: right;\">\n",
              "      <th></th>\n",
              "      <th>DY</th>\n",
              "      <th>TGMT</th>\n",
              "      <th>LAT</th>\n",
              "      <th>LON</th>\n",
              "      <th>KTS</th>\n",
              "      <th>MPH</th>\n",
              "    </tr>\n",
              "  </thead>\n",
              "  <tbody>\n",
              "    <tr>\n",
              "      <th>count</th>\n",
              "      <td>9.000000</td>\n",
              "      <td>9.000000</td>\n",
              "      <td>9.000000</td>\n",
              "      <td>9.000000</td>\n",
              "      <td>9.000000</td>\n",
              "      <td>9.000000</td>\n",
              "    </tr>\n",
              "    <tr>\n",
              "      <th>mean</th>\n",
              "      <td>28.000000</td>\n",
              "      <td>1033.333333</td>\n",
              "      <td>34.011111</td>\n",
              "      <td>86.222222</td>\n",
              "      <td>58.888889</td>\n",
              "      <td>67.777778</td>\n",
              "    </tr>\n",
              "    <tr>\n",
              "      <th>std</th>\n",
              "      <td>1.732051</td>\n",
              "      <td>583.095189</td>\n",
              "      <td>5.704263</td>\n",
              "      <td>11.514640</td>\n",
              "      <td>35.775147</td>\n",
              "      <td>40.474615</td>\n",
              "    </tr>\n",
              "    <tr>\n",
              "      <th>min</th>\n",
              "      <td>26.000000</td>\n",
              "      <td>600.000000</td>\n",
              "      <td>26.100000</td>\n",
              "      <td>60.000000</td>\n",
              "      <td>25.000000</td>\n",
              "      <td>30.000000</td>\n",
              "    </tr>\n",
              "    <tr>\n",
              "      <th>25%</th>\n",
              "      <td>27.000000</td>\n",
              "      <td>600.000000</td>\n",
              "      <td>29.700000</td>\n",
              "      <td>87.300000</td>\n",
              "      <td>30.000000</td>\n",
              "      <td>35.000000</td>\n",
              "    </tr>\n",
              "    <tr>\n",
              "      <th>50%</th>\n",
              "      <td>28.000000</td>\n",
              "      <td>600.000000</td>\n",
              "      <td>34.800000</td>\n",
              "      <td>91.000000</td>\n",
              "      <td>45.000000</td>\n",
              "      <td>50.000000</td>\n",
              "    </tr>\n",
              "    <tr>\n",
              "      <th>75%</th>\n",
              "      <td>29.000000</td>\n",
              "      <td>1800.000000</td>\n",
              "      <td>37.300000</td>\n",
              "      <td>92.900000</td>\n",
              "      <td>95.000000</td>\n",
              "      <td>110.000000</td>\n",
              "    </tr>\n",
              "    <tr>\n",
              "      <th>max</th>\n",
              "      <td>31.000000</td>\n",
              "      <td>1800.000000</td>\n",
              "      <td>44.000000</td>\n",
              "      <td>93.700000</td>\n",
              "      <td>115.000000</td>\n",
              "      <td>130.000000</td>\n",
              "    </tr>\n",
              "  </tbody>\n",
              "</table>\n",
              "</div>"
            ],
            "text/plain": [
              "              DY         TGMT        LAT        LON         KTS         MPH\n",
              "count   9.000000     9.000000   9.000000   9.000000    9.000000    9.000000\n",
              "mean   28.000000  1033.333333  34.011111  86.222222   58.888889   67.777778\n",
              "std     1.732051   583.095189   5.704263  11.514640   35.775147   40.474615\n",
              "min    26.000000   600.000000  26.100000  60.000000   25.000000   30.000000\n",
              "25%    27.000000   600.000000  29.700000  87.300000   30.000000   35.000000\n",
              "50%    28.000000   600.000000  34.800000  91.000000   45.000000   50.000000\n",
              "75%    29.000000  1800.000000  37.300000  92.900000   95.000000  110.000000\n",
              "max    31.000000  1800.000000  44.000000  93.700000  115.000000  130.000000"
            ]
          },
          "metadata": {},
          "execution_count": 71
        }
      ]
    },
    {
      "cell_type": "code",
      "metadata": {
        "colab": {
          "base_uri": "https://localhost:8080/"
        },
        "id": "BiZKbad5LCyc",
        "outputId": "50c68d0b-46dd-4e4e-a720-cde6d568630a"
      },
      "source": [
        "track['MPH']"
      ],
      "execution_count": null,
      "outputs": [
        {
          "output_type": "execute_result",
          "data": {
            "text/plain": [
              "FH\n",
              "0      110\n",
              "12     130\n",
              "24     120\n",
              "36      60\n",
              "48      35\n",
              "60      30\n",
              "72      35\n",
              "96      40\n",
              "120     50\n",
              "Name: MPH, dtype: int64"
            ]
          },
          "metadata": {},
          "execution_count": 72
        }
      ]
    },
    {
      "cell_type": "code",
      "metadata": {
        "colab": {
          "base_uri": "https://localhost:8080/",
          "height": 279
        },
        "id": "AvnmaVcsLPjP",
        "outputId": "cd3623ac-9ea9-4494-d9c4-1086ea41ebef"
      },
      "source": [
        "track.MPH.plot(color = 'r', legend = True);"
      ],
      "execution_count": null,
      "outputs": [
        {
          "output_type": "display_data",
          "data": {
            "image/png": "[encoded data removed]",
            "text/plain": [
              "<Figure size 432x288 with 1 Axes>"
            ]
          },
          "metadata": {
            "needs_background": "light"
          }
        }
      ]
    },
    {
      "cell_type": "code",
      "metadata": {
        "colab": {
          "base_uri": "https://localhost:8080/",
          "height": 359
        },
        "id": "adxFNEtdUk1k",
        "outputId": "72df3da3-101a-4090-84c1-a2a4c5a89202"
      },
      "source": [
        "track = pd.read_csv('laura_track.csv', index_col=0);\n",
        "index_col = 0\n",
        "track"
      ],
      "execution_count": null,
      "outputs": [
        {
          "output_type": "execute_result",
          "data": {
            "text/html": [
              "<div>\n",
              "<style scoped>\n",
              "    .dataframe tbody tr th:only-of-type {\n",
              "        vertical-align: middle;\n",
              "    }\n",
              "\n",
              "    .dataframe tbody tr th {\n",
              "        vertical-align: top;\n",
              "    }\n",
              "\n",
              "    .dataframe thead th {\n",
              "        text-align: right;\n",
              "    }\n",
              "</style>\n",
              "<table border=\"1\" class=\"dataframe\">\n",
              "  <thead>\n",
              "    <tr style=\"text-align: right;\">\n",
              "      <th></th>\n",
              "      <th>DY</th>\n",
              "      <th>TGMT</th>\n",
              "      <th>LAT</th>\n",
              "      <th>LON</th>\n",
              "      <th>KTS</th>\n",
              "      <th>MPH</th>\n",
              "    </tr>\n",
              "    <tr>\n",
              "      <th>FH</th>\n",
              "      <th></th>\n",
              "      <th></th>\n",
              "      <th></th>\n",
              "      <th></th>\n",
              "      <th></th>\n",
              "      <th></th>\n",
              "    </tr>\n",
              "  </thead>\n",
              "  <tbody>\n",
              "    <tr>\n",
              "      <th>0</th>\n",
              "      <td>26</td>\n",
              "      <td>900</td>\n",
              "      <td>26.1</td>\n",
              "      <td>90.7</td>\n",
              "      <td>95</td>\n",
              "      <td>110</td>\n",
              "    </tr>\n",
              "    <tr>\n",
              "      <th>12</th>\n",
              "      <td>26</td>\n",
              "      <td>1800</td>\n",
              "      <td>27.4</td>\n",
              "      <td>92.4</td>\n",
              "      <td>115</td>\n",
              "      <td>130</td>\n",
              "    </tr>\n",
              "    <tr>\n",
              "      <th>24</th>\n",
              "      <td>27</td>\n",
              "      <td>600</td>\n",
              "      <td>29.7</td>\n",
              "      <td>93.5</td>\n",
              "      <td>105</td>\n",
              "      <td>120</td>\n",
              "    </tr>\n",
              "    <tr>\n",
              "      <th>36</th>\n",
              "      <td>27</td>\n",
              "      <td>1800</td>\n",
              "      <td>32.4</td>\n",
              "      <td>93.7</td>\n",
              "      <td>50</td>\n",
              "      <td>60</td>\n",
              "    </tr>\n",
              "    <tr>\n",
              "      <th>48</th>\n",
              "      <td>28</td>\n",
              "      <td>600</td>\n",
              "      <td>34.8</td>\n",
              "      <td>92.9</td>\n",
              "      <td>30</td>\n",
              "      <td>35</td>\n",
              "    </tr>\n",
              "    <tr>\n",
              "      <th>60</th>\n",
              "      <td>28</td>\n",
              "      <td>1800</td>\n",
              "      <td>36.4</td>\n",
              "      <td>91.0</td>\n",
              "      <td>25</td>\n",
              "      <td>30</td>\n",
              "    </tr>\n",
              "    <tr>\n",
              "      <th>72</th>\n",
              "      <td>29</td>\n",
              "      <td>600</td>\n",
              "      <td>37.3</td>\n",
              "      <td>87.3</td>\n",
              "      <td>30</td>\n",
              "      <td>35</td>\n",
              "    </tr>\n",
              "    <tr>\n",
              "      <th>96</th>\n",
              "      <td>30</td>\n",
              "      <td>600</td>\n",
              "      <td>38.0</td>\n",
              "      <td>74.5</td>\n",
              "      <td>35</td>\n",
              "      <td>40</td>\n",
              "    </tr>\n",
              "    <tr>\n",
              "      <th>120</th>\n",
              "      <td>31</td>\n",
              "      <td>600</td>\n",
              "      <td>44.0</td>\n",
              "      <td>60.0</td>\n",
              "      <td>45</td>\n",
              "      <td>50</td>\n",
              "    </tr>\n",
              "  </tbody>\n",
              "</table>\n",
              "</div>"
            ],
            "text/plain": [
              "     DY  TGMT   LAT   LON  KTS  MPH\n",
              "FH                                 \n",
              "0    26   900  26.1  90.7   95  110\n",
              "12   26  1800  27.4  92.4  115  130\n",
              "24   27   600  29.7  93.5  105  120\n",
              "36   27  1800  32.4  93.7   50   60\n",
              "48   28   600  34.8  92.9   30   35\n",
              "60   28  1800  36.4  91.0   25   30\n",
              "72   29   600  37.3  87.3   30   35\n",
              "96   30   600  38.0  74.5   35   40\n",
              "120  31   600  44.0  60.0   45   50"
            ]
          },
          "metadata": {},
          "execution_count": 74
        }
      ]
    },
    {
      "cell_type": "code",
      "metadata": {
        "colab": {
          "base_uri": "https://localhost:8080/"
        },
        "id": "Lgo4tBZhWgI5",
        "outputId": "3c50ef39-0196-4eba-9433-52c08ec3fd5d"
      },
      "source": [
        "track.columns"
      ],
      "execution_count": null,
      "outputs": [
        {
          "output_type": "execute_result",
          "data": {
            "text/plain": [
              "Index(['DY', 'TGMT', 'LAT', 'LON', 'KTS', 'MPH'], dtype='object')"
            ]
          },
          "metadata": {},
          "execution_count": 75
        }
      ]
    },
    {
      "cell_type": "code",
      "metadata": {
        "id": "3l7k7HAeLZZA",
        "colab": {
          "base_uri": "https://localhost:8080/"
        },
        "outputId": "37aabf94-893a-4a19-9bd5-c978b9f78548"
      },
      "source": [
        "track.MPH"
      ],
      "execution_count": null,
      "outputs": [
        {
          "output_type": "execute_result",
          "data": {
            "text/plain": [
              "FH\n",
              "0      110\n",
              "12     130\n",
              "24     120\n",
              "36      60\n",
              "48      35\n",
              "60      30\n",
              "72      35\n",
              "96      40\n",
              "120     50\n",
              "Name: MPH, dtype: int64"
            ]
          },
          "metadata": {},
          "execution_count": 76
        }
      ]
    },
    {
      "cell_type": "code",
      "metadata": {
        "colab": {
          "base_uri": "https://localhost:8080/"
        },
        "id": "GEgC77RFWklM",
        "outputId": "07963a19-b175-4d92-aad7-2410226df6b1"
      },
      "source": [
        "track.MPH.values"
      ],
      "execution_count": null,
      "outputs": [
        {
          "output_type": "execute_result",
          "data": {
            "text/plain": [
              "array([110, 130, 120,  60,  35,  30,  35,  40,  50])"
            ]
          },
          "metadata": {},
          "execution_count": 77
        }
      ]
    },
    {
      "cell_type": "code",
      "metadata": {
        "colab": {
          "base_uri": "https://localhost:8080/",
          "height": 279
        },
        "id": "yBdW-sj6WpEU",
        "outputId": "34f6a94a-3b42-454a-a027-379f1d2b5584"
      },
      "source": [
        "track.MPH.plot( color = 'r', legend = True);"
      ],
      "execution_count": null,
      "outputs": [
        {
          "output_type": "display_data",
          "data": {
            "image/png": "[encoded data removed]",
            "text/plain": [
              "<Figure size 432x288 with 1 Axes>"
            ]
          },
          "metadata": {
            "needs_background": "light"
          }
        }
      ]
    },
    {
      "cell_type": "code",
      "metadata": {
        "colab": {
          "base_uri": "https://localhost:8080/",
          "height": 602
        },
        "id": "_nrXxFsRW0Et",
        "outputId": "ce80b920-97eb-4093-d4ff-973e39d0cbe3"
      },
      "source": [
        "track.LON = -track.LON\n",
        "plt.figure(dpi = 150)\n",
        "plt.subplot(3, 1, 1);\n",
        "track.MPH.plot(color = 'r');\n",
        "plt.title('Laura')  # rows, columns, plot-number\n",
        "\n",
        "plt.subplot(3, 1, 2);\n",
        "track.LAT.plot(color = 'b')\n",
        "\n",
        "plt.subplot(3, 1, 3); track.LON.plot(color = 'g')\n",
        "plt.xlabel('Forcast Track Time (hours)')\n",
        "plt.tight_layout()"
      ],
      "execution_count": null,
      "outputs": [
        {
          "output_type": "display_data",
          "data": {
            "image/png": "[encoded data removed]",
            "text/plain": [
              "<Figure size 900x600 with 3 Axes>"
            ]
          },
          "metadata": {
            "needs_background": "light"
          }
        }
      ]
    },
    {
      "cell_type": "code",
      "metadata": {
        "colab": {
          "base_uri": "https://localhost:8080/",
          "height": 296
        },
        "id": "HxH060HrX0ab",
        "outputId": "a1ba03b2-5504-4f05-c0c7-8d9c49a9229f"
      },
      "source": [
        "track.KTS.plot( kind = 'line')"
      ],
      "execution_count": null,
      "outputs": [
        {
          "output_type": "execute_result",
          "data": {
            "text/plain": [
              "<matplotlib.axes._subplots.AxesSubplot at 0x7fa43b39d4d0>"
            ]
          },
          "metadata": {},
          "execution_count": 83
        },
        {
          "output_type": "display_data",
          "data": {
            "image/png": "[encoded data removed]",
            "text/plain": [
              "<Figure size 432x288 with 1 Axes>"
            ]
          },
          "metadata": {
            "needs_background": "light"
          }
        }
      ]
    },
    {
      "cell_type": "code",
      "metadata": {
        "colab": {
          "base_uri": "https://localhost:8080/",
          "height": 308
        },
        "id": "o0l4vb3lYVwV",
        "outputId": "f8c7c954-1d74-4012-a3ed-a775a9a5270d"
      },
      "source": [
        "track.KTS.plot(kind = 'bar')"
      ],
      "execution_count": null,
      "outputs": [
        {
          "output_type": "execute_result",
          "data": {
            "text/plain": [
              "<matplotlib.axes._subplots.AxesSubplot at 0x7fa43747f410>"
            ]
          },
          "metadata": {},
          "execution_count": 84
        },
        {
          "output_type": "display_data",
          "data": {
            "image/png": "[encoded data removed]",
            "text/plain": [
              "<Figure size 432x288 with 1 Axes>"
            ]
          },
          "metadata": {
            "needs_background": "light"
          }
        }
      ]
    },
    {
      "cell_type": "code",
      "metadata": {
        "colab": {
          "base_uri": "https://localhost:8080/",
          "height": 282
        },
        "id": "hURSkZoIYfcv",
        "outputId": "206b114d-6ab3-435d-aa30-0864e6a7aee4"
      },
      "source": [
        "track.KTS.plot(kind = 'box')"
      ],
      "execution_count": null,
      "outputs": [
        {
          "output_type": "execute_result",
          "data": {
            "text/plain": [
              "<matplotlib.axes._subplots.AxesSubplot at 0x7fa436f1a050>"
            ]
          },
          "metadata": {},
          "execution_count": 85
        },
        {
          "output_type": "display_data",
          "data": {
            "image/png": "[encoded data removed]",
            "text/plain": [
              "<Figure size 432x288 with 1 Axes>"
            ]
          },
          "metadata": {
            "needs_background": "light"
          }
        }
      ]
    },
    {
      "cell_type": "code",
      "metadata": {
        "id": "ITFkhNaJYli_",
        "outputId": "f2959afc-3e81-429e-b496-e6be6f318c9c",
        "colab": {
          "base_uri": "https://localhost:8080/",
          "height": 265
        }
      },
      "source": [
        "track.KTS.plot(kind = 'pie')"
      ],
      "execution_count": null,
      "outputs": [
        {
          "output_type": "execute_result",
          "data": {
            "text/plain": [
              "<matplotlib.axes._subplots.AxesSubplot at 0x7fa436e47450>"
            ]
          },
          "metadata": {},
          "execution_count": 86
        },
        {
          "output_type": "display_data",
          "data": {
            "image/png": "[encoded data removed]",
            "text/plain": [
              "<Figure size 432x288 with 1 Axes>"
            ]
          },
          "metadata": {}
        }
      ]
    },
    {
      "cell_type": "code",
      "metadata": {
        "id": "W4c1O5BaYqzm"
      },
      "source": [],
      "execution_count": null,
      "outputs": []
    }
  ]
}