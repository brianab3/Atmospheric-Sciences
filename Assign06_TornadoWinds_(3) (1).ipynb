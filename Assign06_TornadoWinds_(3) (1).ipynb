{
  "nbformat": 4,
  "nbformat_minor": 0,
  "metadata": {
    "colab": {
      "provenance": []
    },
    "kernelspec": {
      "name": "python3",
      "display_name": "Python 3"
    }
  },
  "cells": [
    {
      "cell_type": "markdown",
      "metadata": {
        "id": "59WNpIsxx8r_"
      },
      "source": [
        "# Atms 305 - ***Tornado winds***\n",
        "## Perhaps the simplest *mathematical model* of tornado winds is the [Rankine vortex](https://en.wikipedia.org/wiki/Rankine_vortex), sometimes called the Rankine Combined Vortex, dating back to 1858.  It features a rigid core (solid-body!) inner vortex in which swirling (tangential) wind increases linearly with radius, surrounded by a gradually weakening wind field.\n",
        "## In this exercise you will create a Rankine vortex tangential wind field, print the values and plot the result.  This problem utilizes NumPy and Matplotlib.\n",
        "\n",
        "\n",
        "\n",
        "\n"
      ]
    },
    {
      "cell_type": "code",
      "metadata": {
        "id": "1SrgmJZFyV_G"
      },
      "source": [
        "# Import Numpy and Matplotlib\n",
        "import numpy as np\n",
        "import matplotlib.pyplot as plt"
      ],
      "execution_count": null,
      "outputs": []
    },
    {
      "cell_type": "code",
      "metadata": {
        "id": "q4nJoK_jyc1x"
      },
      "source": [
        "# Vortex parameters (constants)\n",
        "#   Max. tornado winds (m/s): set Vmax to 125\n",
        "#   Radius of max winds (m) : set RMW = 80\n",
        "Vmax = 125\n",
        "RMW = 80"
      ],
      "execution_count": null,
      "outputs": []
    },
    {
      "cell_type": "code",
      "metadata": {
        "id": "eEWrcvw2y5KZ"
      },
      "source": [
        "# Create radius array running from 0 to 200 m, inclusive,\n",
        "#   at 5 meter intervals.  Don't omit the last (200m) value!\n",
        "radius = np.arange(0,201,5)"
      ],
      "execution_count": null,
      "outputs": []
    },
    {
      "cell_type": "code",
      "metadata": {
        "id": "7EA8T-yuzH6O"
      },
      "source": [
        "# Create a Tangential velocity array full of zeros, named Vt.\n",
        "# Make it the same size as your radius array, above.\n",
        "vt = np.zeros(radius.size)"
      ],
      "execution_count": null,
      "outputs": []
    },
    {
      "cell_type": "code",
      "metadata": {
        "id": "ajHos6cuyDtn",
        "colab": {
          "base_uri": "https://localhost:8080/"
        },
        "outputId": "a4a67371-7bcf-4a95-b8f4-c51880342a93"
      },
      "source": [
        "# Use a for-loop to step through all values in your radius array.\n",
        "#   The discusson below assumes your for-loop variable is \"n\".\n",
        "# In the loop, set the tangential velocity for each array element like so:\n",
        "#   If the radius for that element is less than RMW:\n",
        "#     set Vt[n] to Vmax*radius[n]/RMW\n",
        "#   Otherwise -\n",
        "#     set Vt[n] to Vmax*RMW/radius[n]\n",
        "#   Finally, still in the loop: print out the radius and tangential wind.\n",
        "#   With the print inside a loop, you should get a list of values.\n",
        "# *Format* your output like this:  For radius (m) =  40, Vt (m/s) =  53.33\n",
        "for n in range(vt.size):\n",
        "  if radius[n] < RMW:\n",
        "    vt[n] = Vmax*radius[n]/RMW\n",
        "  else:\n",
        "    vt[n] = Vmax*RMW/radius[n]\n",
        "  print('For radius (n) = %3d, Vt (m/s) = %6.2f' %(radius[n], vt[n]))\n",
        "\n",
        "#"
      ],
      "execution_count": null,
      "outputs": [
        {
          "output_type": "stream",
          "name": "stdout",
          "text": [
            "For radius (n) =   0, Vt (m/s) =   0.00\n",
            "For radius (n) =   5, Vt (m/s) =   7.81\n",
            "For radius (n) =  10, Vt (m/s) =  15.62\n",
            "For radius (n) =  15, Vt (m/s) =  23.44\n",
            "For radius (n) =  20, Vt (m/s) =  31.25\n",
            "For radius (n) =  25, Vt (m/s) =  39.06\n",
            "For radius (n) =  30, Vt (m/s) =  46.88\n",
            "For radius (n) =  35, Vt (m/s) =  54.69\n",
            "For radius (n) =  40, Vt (m/s) =  62.50\n",
            "For radius (n) =  45, Vt (m/s) =  70.31\n",
            "For radius (n) =  50, Vt (m/s) =  78.12\n",
            "For radius (n) =  55, Vt (m/s) =  85.94\n",
            "For radius (n) =  60, Vt (m/s) =  93.75\n",
            "For radius (n) =  65, Vt (m/s) = 101.56\n",
            "For radius (n) =  70, Vt (m/s) = 109.38\n",
            "For radius (n) =  75, Vt (m/s) = 117.19\n",
            "For radius (n) =  80, Vt (m/s) = 125.00\n",
            "For radius (n) =  85, Vt (m/s) = 117.65\n",
            "For radius (n) =  90, Vt (m/s) = 111.11\n",
            "For radius (n) =  95, Vt (m/s) = 105.26\n",
            "For radius (n) = 100, Vt (m/s) = 100.00\n",
            "For radius (n) = 105, Vt (m/s) =  95.24\n",
            "For radius (n) = 110, Vt (m/s) =  90.91\n",
            "For radius (n) = 115, Vt (m/s) =  86.96\n",
            "For radius (n) = 120, Vt (m/s) =  83.33\n",
            "For radius (n) = 125, Vt (m/s) =  80.00\n",
            "For radius (n) = 130, Vt (m/s) =  76.92\n",
            "For radius (n) = 135, Vt (m/s) =  74.07\n",
            "For radius (n) = 140, Vt (m/s) =  71.43\n",
            "For radius (n) = 145, Vt (m/s) =  68.97\n",
            "For radius (n) = 150, Vt (m/s) =  66.67\n",
            "For radius (n) = 155, Vt (m/s) =  64.52\n",
            "For radius (n) = 160, Vt (m/s) =  62.50\n",
            "For radius (n) = 165, Vt (m/s) =  60.61\n",
            "For radius (n) = 170, Vt (m/s) =  58.82\n",
            "For radius (n) = 175, Vt (m/s) =  57.14\n",
            "For radius (n) = 180, Vt (m/s) =  55.56\n",
            "For radius (n) = 185, Vt (m/s) =  54.05\n",
            "For radius (n) = 190, Vt (m/s) =  52.63\n",
            "For radius (n) = 195, Vt (m/s) =  51.28\n",
            "For radius (n) = 200, Vt (m/s) =  50.00\n"
          ]
        }
      ]
    },
    {
      "cell_type": "code",
      "metadata": {
        "id": "Ufaub6NuyTSX",
        "colab": {
          "base_uri": "https://localhost:8080/",
          "height": 313
        },
        "outputId": "2da03981-8a79-4f52-bcae-e9fc4962455f"
      },
      "source": [
        "# Plot the tangential wind (Y-axis) vs. radius (X-axis):\n",
        "#  1. Make a line plot of tangential wind Vt versus radius.\n",
        "#  2. Add x-label: Radius (meters)\n",
        "#  3. Add y-label: Tangential Wind (m/s)\n",
        "#  4. Add title: Tangential Wind vs. Radius\n",
        "#  5. Add plt.grid() if you wish (try it!)\n",
        "#  5. Finally, use plt.text() to put the word RMW at the peak.\n",
        "#       ... include in the call to plt.text this:  horizontalalignment='center'\n",
        "plt.figure()\n",
        "plt.plot(radius,vt)\n",
        "plt.xlabel('Radius (meters)')\n",
        "plt.ylabel('Tangential Wind (m/s)')\n",
        "plt.title('Tangential Wind vs. Radius')\n",
        "plt.grid()\n",
        "plt.text(RMW,Vmax,'RMW',horizontalalignment='center')"
      ],
      "execution_count": null,
      "outputs": [
        {
          "output_type": "execute_result",
          "data": {
            "text/plain": [
              "Text(80, 125, 'RMW')"
            ]
          },
          "metadata": {},
          "execution_count": 17
        },
        {
          "output_type": "display_data",
          "data": {
            "text/plain": [
              "<Figure size 432x288 with 1 Axes>"
            ],
            "image/png": "[encoded data removed]"
          },
          "metadata": {
            "needs_background": "light"
          }
        }
      ]
    },
    {
      "cell_type": "code",
      "metadata": {
        "id": "-3ucPT4eyuEv",
        "colab": {
          "base_uri": "https://localhost:8080/",
          "height": 313
        },
        "outputId": "77a137a2-7c4a-4e0d-95c9-c350733abc43"
      },
      "source": [
        "# Bar plot: use plt.bar() as you did plt.plot() earlier.\n",
        "# Add labels and title as before.\n",
        "plt.figure()\n",
        "plt.bar(radius,vt)\n",
        "plt.xlabel('Radius (meters)')\n",
        "plt.ylabel('Tangential Wind (m/s)')\n",
        "plt.title('Tangential Wind vs. Radius')\n",
        "plt.grid()\n",
        "plt.text(RMW,Vmax,'RMW',horizontalalignment='center')"
      ],
      "execution_count": null,
      "outputs": [
        {
          "output_type": "execute_result",
          "data": {
            "text/plain": [
              "Text(80, 125, 'RMW')"
            ]
          },
          "metadata": {},
          "execution_count": 18
        },
        {
          "output_type": "display_data",
          "data": {
            "text/plain": [
              "<Figure size 432x288 with 1 Axes>"
            ],
            "image/png": "[encoded data removed]"
          },
          "metadata": {
            "needs_background": "light"
          }
        }
      ]
    },
    {
      "cell_type": "code",
      "metadata": {
        "id": "KcqE1Hh8ywnt"
      },
      "source": [
        "# End of assignment."
      ],
      "execution_count": null,
      "outputs": []
    }
  ]
}